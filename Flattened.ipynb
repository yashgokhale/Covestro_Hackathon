{
 "cells": [
  {
   "cell_type": "code",
   "execution_count": 63,
   "metadata": {},
   "outputs": [
    {
     "data": {
      "text/plain": [
       "1090560"
      ]
     },
     "execution_count": 63,
     "metadata": {},
     "output_type": "execute_result"
    }
   ],
   "source": [
    "import os\n",
    "os.chdir(\"C:/Users/yashg/OneDrive/Documents/Covestro Hackathon/ParticleFormationStudentData/StudentData\")\n",
    "\n",
    "import pandas as pd\n",
    "\n",
    "train_data=pd.read_csv(\"train_scores.csv\")\n",
    "\n",
    "import numpy as np\n",
    "\n",
    "img=train_data[\"image\"]\n",
    "img=img+\".bmp\"\n",
    "#img=np.array(img)\n",
    "#img=list(img)\n",
    "\n",
    "m1=train_data[\"exp1\"]\n",
    "m1=np.array(m1)\n",
    "\n",
    "m2=train_data[\"exp2\"]\n",
    "m2=np.array(m2)\n",
    "\n",
    "m3=train_data[\"exp3\"]\n",
    "m3=np.array(m3)\n",
    "\n",
    "m4=train_data[\"exp4\"]\n",
    "m4=np.array(m4)\n",
    "\n",
    "m5=train_data[\"exp5\"]\n",
    "m5=np.array(m5)\n",
    "\n",
    "m6=train_data[\"exp6\"]\n",
    "m6=np.array(m6)\n",
    "\n",
    "mavg=train_data[\"total_rating\"]\n",
    "mavg=np.array(mavg)\n",
    "\n",
    "rating=(np.array([m1,m2,m3,m4,m5,m6,mavg])).T\n",
    "\n",
    "#img=img+(\".bmp\")\n",
    "\n",
    "#row: one image\n",
    "#column: per manager\n",
    "710*512*3"
   ]
  },
  {
   "cell_type": "code",
   "execution_count": 68,
   "metadata": {},
   "outputs": [],
   "source": [
    "import os\n",
    "os.chdir(\"C:/Users/yashg/OneDrive/Documents/Covestro Hackathon/ParticleFormationStudentData/StudentData/train\")\n",
    "import cv2\n",
    "import numpy as np\n",
    "from PIL import Image, ImageChops\n",
    "from matplotlib.pyplot import imread\n",
    "asum=np.zeros(197)\n",
    "#pix=np.zeros([710,512,3])\n",
    "im2=cv2.imread(str(img[0]))\n",
    "a=np.array([im2.flatten()])\n",
    "for i in range(1,len(img)):\n",
    "    img_2 = cv2.imread(str(img[i]))\n",
    "    a2=img_2.flatten()\n",
    "    pix=np.vstack((a,a2))\n",
    "    a=pix\n",
    "    #print(a.shape),print(type(a))"
   ]
  },
  {
   "cell_type": "code",
   "execution_count": 69,
   "metadata": {},
   "outputs": [
    {
     "data": {
      "text/plain": [
       "((197, 1090560), (197,))"
      ]
     },
     "execution_count": 69,
     "metadata": {},
     "output_type": "execute_result"
    }
   ],
   "source": [
    "pix.shape,mavg.shape"
   ]
  },
  {
   "cell_type": "markdown",
   "metadata": {},
   "source": [
    "from sklearn.linear_model import LinearRegression\n",
    "reg = LinearRegression().fit(pix, mavg)"
   ]
  },
  {
   "cell_type": "markdown",
   "metadata": {},
   "source": [
    "#useless\n",
    "import os\n",
    "os.chdir(\"C:/Users/yashg/OneDrive/Documents/Covestro Hackathon/ParticleFormationStudentData/StudentData/train\")\n",
    "import cv2\n",
    "import numpy as np\n",
    "from PIL import Image, ImageChops\n",
    "from matplotlib.pyplot import imread\n",
    "asum=np.zeros(197)\n",
    "pix=np.array([])\n",
    "for i in range(1,197):\n",
    "    img_2 = cv2.imread(str(img[i]))\n",
    "    a=img_2.flatten()\n",
    "    pix=np.vstack((pix,a))\n",
    "    #print(a.shape),print(type(a))\n",
    "pix.shape"
   ]
  },
  {
   "cell_type": "code",
   "execution_count": 70,
   "metadata": {},
   "outputs": [
    {
     "data": {
      "text/plain": [
       "array([9, 9, 9, ..., 0, 0, 0], dtype=uint8)"
      ]
     },
     "execution_count": 70,
     "metadata": {},
     "output_type": "execute_result"
    }
   ],
   "source": [
    "pix2=pix.sum()"
   ]
  }
 ],
 "metadata": {
  "kernelspec": {
   "display_name": "Python 3",
   "language": "python",
   "name": "python3"
  },
  "language_info": {
   "codemirror_mode": {
    "name": "ipython",
    "version": 3
   },
   "file_extension": ".py",
   "mimetype": "text/x-python",
   "name": "python",
   "nbconvert_exporter": "python",
   "pygments_lexer": "ipython3",
   "version": "3.7.3"
  }
 },
 "nbformat": 4,
 "nbformat_minor": 2
}
