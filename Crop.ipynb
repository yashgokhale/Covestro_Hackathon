{
 "cells": [
  {
   "cell_type": "code",
   "execution_count": 1,
   "metadata": {},
   "outputs": [],
   "source": [
    "import numpy as np\n",
    "import matplotlib.pyplot as plt\n",
    "import os\n",
    "import cv2\n",
    "os.chdir(\"C:/Users/yashg/OneDrive/Documents/Covestro Hackathon/ParticleFormationStudentData/StudentData/train\")"
   ]
  },
  {
   "cell_type": "code",
   "execution_count": 5,
   "metadata": {},
   "outputs": [],
   "source": [
    "import pandas as pd\n",
    "train_data=pd.read_csv(\"train_scores.csv\")\n",
    "m1=train_data[\"exp1\"]\n",
    "m1=np.array(m1)\n",
    "\n",
    "m2=train_data[\"exp2\"]\n",
    "m2=np.array(m2)\n",
    "\n",
    "m3=train_data[\"exp3\"]\n",
    "m3=np.array(m3)\n",
    "\n",
    "m4=train_data[\"exp4\"]\n",
    "m4=np.array(m4)\n",
    "\n",
    "m5=train_data[\"exp5\"]\n",
    "m5=np.array(m5)\n",
    "\n",
    "m6=train_data[\"exp6\"]\n",
    "m6=np.array(m6)\n",
    "\n",
    "mavg=train_data[\"total_rating\"]\n",
    "mavg=np.array(mavg)\n",
    "\n",
    "r1=np.append(m1,m2)\n",
    "r2=np.append(r1,m3)\n",
    "r3=np.append(r2,m4)\n",
    "r4=np.append(r3,m5)\n",
    "rating=np.append(r3,m6)\n",
    "\n",
    "img=train_data[\"image\"]\n",
    "img=np.array(img)"
   ]
  },
  {
   "cell_type": "code",
   "execution_count": null,
   "metadata": {},
   "outputs": [],
   "source": [
    "im2=cv2.imread(str(img[0])+'.bmp',cv2.IMREAD_GRAYSCALE)\n"
   ]
  }
 ],
 "metadata": {
  "kernelspec": {
   "display_name": "Python 3",
   "language": "python",
   "name": "python3"
  },
  "language_info": {
   "codemirror_mode": {
    "name": "ipython",
    "version": 3
   },
   "file_extension": ".py",
   "mimetype": "text/x-python",
   "name": "python",
   "nbconvert_exporter": "python",
   "pygments_lexer": "ipython3",
   "version": "3.7.3"
  }
 },
 "nbformat": 4,
 "nbformat_minor": 2
}
