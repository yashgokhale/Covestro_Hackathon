{
 "cells": [
  {
   "cell_type": "code",
   "execution_count": 2,
   "metadata": {},
   "outputs": [
    {
     "name": "stdout",
     "output_type": "stream",
     "text": [
      "WARNING:tensorflow:\n",
      "\n",
      "  TensorFlow's `tf-nightly` package will soon be updated to TensorFlow 2.0.\n",
      "\n",
      "  Please upgrade your code to TensorFlow 2.0:\n",
      "    * https://www.tensorflow.org/beta/guide/migration_guide\n",
      "\n",
      "  Or install the latest stable TensorFlow 1.X release:\n",
      "    * `pip install -U \"tensorflow==1.*\"`\n",
      "\n",
      "  Otherwise your code may be broken by the change.\n",
      "\n",
      "  \n"
     ]
    }
   ],
   "source": [
    "import tensorflow as tf\n",
    "from tensorflow.keras.preprocessing.image import ImageDataGenerator\n",
    "from tensorflow.keras.models import Sequential\n",
    "from tensorflow.keras.layers import Dense, Dropout, Activation, Flatten\n",
    "from tensorflow.keras.layers import Conv2D, MaxPooling2D,Conv1D"
   ]
  },
  {
   "cell_type": "code",
   "execution_count": 3,
   "metadata": {},
   "outputs": [],
   "source": [
    "import numpy as np\n",
    "import matplotlib.pyplot as plt\n",
    "import os\n",
    "import cv2\n",
    "\n",
    "import os\n",
    "os.chdir(\"C:/Users/yashg/OneDrive/Documents/Covestro Hackathon/ParticleFormationStudentData/StudentData/train\")\n",
    "\n",
    "import pandas as pd\n",
    "\n",
    "train_data=pd.read_csv(\"train_scores.csv\")\n"
   ]
  },
  {
   "cell_type": "code",
   "execution_count": 4,
   "metadata": {},
   "outputs": [
    {
     "data": {
      "text/plain": [
       "array([7.2, 1.3, 8.2, 7.8, 5.5, 7.5, 3.2, 3.2, 5.2, 4.7, 3. , 9. , 8.2,\n",
       "       2.2, 5.7, 3.8, 3. , 3.7, 2.5, 7.5, 6. , 5.5, 4. , 4.8, 5.3, 5. ,\n",
       "       6.2, 4.8, 2.5, 2. , 7.3, 5.3, 7.3, 8.2, 6.8, 5.3, 6. , 4. , 5.3,\n",
       "       3.8, 2.7, 1.7, 4.2, 3.5, 4.3, 1.3, 4.7, 4.2, 2.7, 4.8, 6.3, 7.5,\n",
       "       5. , 6.2, 4.3, 1.8, 7.7, 5.5, 4.7, 8.7, 4.3, 4.2, 2.8, 6.8, 2.3,\n",
       "       3.8, 3. , 1. , 5.2, 5. , 2.3, 3. , 4. , 6.3, 1.3, 6.2, 4.2, 7.3,\n",
       "       2.8, 1.7, 6.5, 5. , 4.5, 6.3, 4.8, 6.8, 6.5, 5. , 4.3, 3.3, 7. ,\n",
       "       2.5, 7. , 5.3, 1.8, 5. , 3.2, 3.2, 4.8, 3.2, 7. , 5.3, 3.8, 4.3,\n",
       "       8. , 6.7, 8. , 1.5, 3.5, 7.5, 3.3, 4.8, 5.3, 3.2, 5. , 4. , 6.5,\n",
       "       5.5, 3. , 5.8, 9. , 1.8, 6.8, 6.2, 3.7, 3.2, 3.8, 2.3, 8.3, 4. ,\n",
       "       5.5, 5.5, 3.7, 4.8, 4.7, 6.2, 5.3, 7.3, 5.5, 5.8, 3.2, 2.3, 5. ,\n",
       "       7. , 5.8, 2.5, 6.3, 6.5, 5.5, 3.2, 3.5, 8.5, 5.7, 7.2, 2.2, 6. ,\n",
       "       3.7, 7.3, 4.2, 4.2, 4.7, 8.2, 2.7, 4.8, 5.5, 4.2, 4. , 4.3, 7.3,\n",
       "       4.3, 5.7, 2.3, 5.8, 7. , 7.5, 4.8, 7. , 8.2, 4.7, 3. , 4.2, 5.7,\n",
       "       8.2, 4.8, 6.3, 4.5, 1.2, 6.7, 6.5, 7.7, 7.3, 4.3, 3.3, 1. , 4.7,\n",
       "       4.7, 4.8])"
      ]
     },
     "execution_count": 4,
     "metadata": {},
     "output_type": "execute_result"
    }
   ],
   "source": [
    "m1=train_data[\"exp1\"]\n",
    "m1=np.array(m1)\n",
    "\n",
    "m2=train_data[\"exp2\"]\n",
    "m2=np.array(m2)\n",
    "\n",
    "m3=train_data[\"exp3\"]\n",
    "m3=np.array(m3)\n",
    "\n",
    "m4=train_data[\"exp4\"]\n",
    "m4=np.array(m4)\n",
    "\n",
    "m5=train_data[\"exp5\"]\n",
    "m5=np.array(m5)\n",
    "\n",
    "m6=train_data[\"exp6\"]\n",
    "m6=np.array(m6)\n",
    "\n",
    "mavg=train_data[\"total_rating\"]\n",
    "mavg=np.array(mavg)\n",
    "\n",
    "r1=np.append(m1,m2)\n",
    "r2=np.append(r1,m3)\n",
    "r3=np.append(r2,m4)\n",
    "r4=np.append(r3,m5)\n",
    "rating=np.append(r3,m6)\n",
    "\n",
    "mavg"
   ]
  },
  {
   "cell_type": "code",
   "execution_count": 5,
   "metadata": {
    "scrolled": false
   },
   "outputs": [
    {
     "name": "stdout",
     "output_type": "stream",
     "text": [
      "(197, 710, 512)\n"
     ]
    },
    {
     "data": {
      "text/plain": [
       "(197, 512, 710, 1)"
      ]
     },
     "execution_count": 5,
     "metadata": {},
     "output_type": "execute_result"
    }
   ],
   "source": [
    "img=train_data[\"image\"]\n",
    "img=np.array(img)\n",
    "\n",
    "list=[]\n",
    "for i in range(197):\n",
    "    im2=cv2.imread(str(img[i])+'.bmp',cv2.IMREAD_GRAYSCALE)\n",
    "    list.append(im2)\n",
    "x=np.array(list)\n",
    "print(x.shape)\n",
    "    \n",
    "x=x.reshape(-1,512,710,1)\n",
    "x=np.array(x)\n",
    "x.shape\n",
    "#o=np.ones()\n",
    "#x2=list.append(1)\n",
    "#np.array(x2).shape"
   ]
  },
  {
   "cell_type": "code",
   "execution_count": 6,
   "metadata": {},
   "outputs": [
    {
     "name": "stdout",
     "output_type": "stream",
     "text": [
      "WARNING:tensorflow:From C:\\ProgramData\\Anaconda3\\lib\\site-packages\\tensorflow_core\\python\\ops\\resource_variable_ops.py:1630: calling BaseResourceVariable.__init__ (from tensorflow.python.ops.resource_variable_ops) with constraint is deprecated and will be removed in a future version.\n",
      "Instructions for updating:\n",
      "If using Keras pass *_constraint arguments to layers.\n",
      "Train on 137 samples, validate on 60 samples\n",
      "137/137 [==============================] - 630s 5s/sample - loss: 8928737.4763 - acc: 0.0000e+00 - val_loss: 30.0155 - val_acc: 0.0000e+00\n"
     ]
    },
    {
     "data": {
      "text/plain": [
       "<tensorflow.python.keras.callbacks.History at 0x166e0bc20b8>"
      ]
     },
     "execution_count": 6,
     "metadata": {},
     "output_type": "execute_result"
    }
   ],
   "source": [
    "model = Sequential()\n",
    "\n",
    "model.add(Conv2D(256, (3, 3),input_shape=x.shape[1:]))\n",
    "model.add(Activation('relu'))\n",
    "model.add(MaxPooling2D(pool_size=(2, 2)))\n",
    "\n",
    "model.add(Conv2D(256, (3, 3)))\n",
    "model.add(Activation('relu'))\n",
    "model.add(MaxPooling2D(pool_size=(2, 2)))\n",
    "\n",
    "model.add(Flatten())  # this converts our 3D feature maps to 1D feature vectors\n",
    "\n",
    "model.add(Dense(64))\n",
    "\n",
    "model.add(Dense(1))\n",
    "model.add(Activation('relu'))\n",
    "\n",
    "model.compile(loss='mse',\n",
    "              optimizer='adam',\n",
    "              metrics=['accuracy'])\n",
    "\n",
    "model.fit(x, mavg, batch_size=2, epochs=1, validation_split=0.3)"
   ]
  },
  {
   "cell_type": "code",
   "execution_count": null,
   "metadata": {},
   "outputs": [],
   "source": []
  }
 ],
 "metadata": {
  "kernelspec": {
   "display_name": "Python 3",
   "language": "python",
   "name": "python3"
  },
  "language_info": {
   "codemirror_mode": {
    "name": "ipython",
    "version": 3
   },
   "file_extension": ".py",
   "mimetype": "text/x-python",
   "name": "python",
   "nbconvert_exporter": "python",
   "pygments_lexer": "ipython3",
   "version": "3.7.3"
  }
 },
 "nbformat": 4,
 "nbformat_minor": 2
}
