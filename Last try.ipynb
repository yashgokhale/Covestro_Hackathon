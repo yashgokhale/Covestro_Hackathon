{
 "cells": [
  {
   "cell_type": "code",
   "execution_count": 1,
   "metadata": {},
   "outputs": [],
   "source": [
    "import numpy as np\n",
    "import matplotlib.pyplot as plt\n",
    "import os\n",
    "import cv2\n",
    "\n",
    "import os\n",
    "os.chdir(\"C:/Users/yashg/OneDrive/Documents/Covestro Hackathon/ParticleFormationStudentData/StudentData/train\")\n",
    "\n",
    "import pandas as pd\n",
    "\n",
    "train_data=pd.read_csv(\"train_scores.csv\")\n"
   ]
  },
  {
   "cell_type": "code",
   "execution_count": 2,
   "metadata": {},
   "outputs": [
    {
     "data": {
      "text/plain": [
       "(985,)"
      ]
     },
     "execution_count": 2,
     "metadata": {},
     "output_type": "execute_result"
    }
   ],
   "source": [
    "m1=train_data[\"exp1\"]\n",
    "m1=np.array(m1)\n",
    "\n",
    "m2=train_data[\"exp2\"]\n",
    "m2=np.array(m2)\n",
    "\n",
    "m3=train_data[\"exp3\"]\n",
    "m3=np.array(m3)\n",
    "\n",
    "m4=train_data[\"exp4\"]\n",
    "m4=np.array(m4)\n",
    "\n",
    "m5=train_data[\"exp5\"]\n",
    "m5=np.array(m5)\n",
    "\n",
    "m6=train_data[\"exp6\"]\n",
    "m6=np.array(m6)\n",
    "\n",
    "mavg=train_data[\"total_rating\"]\n",
    "mavg=np.array(mavg)\n",
    "\n",
    "r1=np.append(m1,m2)\n",
    "r2=np.append(r1,m3)\n",
    "r3=np.append(r2,m4)\n",
    "r4=np.append(r3,m5)\n",
    "rating=np.append(r3,m6)\n",
    "\n",
    "rating.shape"
   ]
  },
  {
   "cell_type": "code",
   "execution_count": null,
   "metadata": {},
   "outputs": [],
   "source": [
    "r=m1+m2+r3+m4+m5+m6"
   ]
  },
  {
   "cell_type": "code",
   "execution_count": 3,
   "metadata": {},
   "outputs": [
    {
     "data": {
      "text/plain": [
       "((710, 512),\n",
       " array([[0.07843137, 0.07058824, 0.06666667, ..., 0.        , 0.        ,\n",
       "         0.        ],\n",
       "        [0.08235294, 0.06666667, 0.0627451 , ..., 0.        , 0.        ,\n",
       "         0.        ],\n",
       "        [0.11764706, 0.09803922, 0.06666667, ..., 0.        , 0.        ,\n",
       "         0.        ],\n",
       "        ...,\n",
       "        [0.05490196, 0.05490196, 0.05490196, ..., 0.        , 0.        ,\n",
       "         0.        ],\n",
       "        [0.05098039, 0.04705882, 0.05490196, ..., 0.        , 0.        ,\n",
       "         0.        ],\n",
       "        [0.0627451 , 0.0627451 , 0.05098039, ..., 0.        , 0.        ,\n",
       "         0.        ]]))"
      ]
     },
     "execution_count": 3,
     "metadata": {},
     "output_type": "execute_result"
    }
   ],
   "source": [
    "from PIL import Image\n",
    "im = Image.open('0a80270d725a8bac3d9f35195392d9cb6d42b0d5.bmp')\n",
    "#im.bits\n",
    "img2=cv2.imread('0a80270d725a8bac3d9f35195392d9cb6d42b0d5.bmp',cv2.IMREAD_GRAYSCALE)\n",
    "img2=img2/255\n",
    "img2.shape,img2"
   ]
  },
  {
   "cell_type": "markdown",
   "metadata": {},
   "source": [
    "n=0\n",
    "for i in range(710):\n",
    "    for j in range(512):\n",
    "        if img2[i][j]>0.9:\n",
    "            n=n+1\n",
    "n"
   ]
  },
  {
   "cell_type": "code",
   "execution_count": 4,
   "metadata": {},
   "outputs": [],
   "source": [
    "img=train_data[\"image\"]\n",
    "img=np.array(img)\n",
    "n=np.zeros(197)\n",
    "for i in range(197):\n",
    "    im2=cv2.imread(str(img[i])+'.bmp',cv2.IMREAD_GRAYSCALE)\n",
    "    for k in range(710):\n",
    "        for j in range(512):\n",
    "            if im2[k][j]/(255)>0.9:\n",
    "                n[i]=n[i]+1"
   ]
  },
  {
   "cell_type": "code",
   "execution_count": 7,
   "metadata": {},
   "outputs": [
    {
     "data": {
      "text/plain": [
       "[<matplotlib.lines.Line2D at 0x187d2ef1cf8>]"
      ]
     },
     "execution_count": 7,
     "metadata": {},
     "output_type": "execute_result"
    },
    {
     "data": {
      "image/png": "[encoded data removed]",
      "text/plain": [
       "<Figure size 432x288 with 1 Axes>"
      ]
     },
     "metadata": {
      "needs_background": "light"
     },
     "output_type": "display_data"
    }
   ],
   "source": [
    "plt.plot(n,mavg,'.')"
   ]
  },
  {
   "cell_type": "code",
   "execution_count": 21,
   "metadata": {},
   "outputs": [
    {
     "data": {
      "text/plain": [
       "[<matplotlib.lines.Line2D at 0x2016045dd68>]"
      ]
     },
     "execution_count": 21,
     "metadata": {},
     "output_type": "execute_result"
    },
    {
     "data": {
      "image/png": "[encoded data removed]",
      "text/plain": [
       "<Figure size 432x288 with 1 Axes>"
      ]
     },
     "metadata": {
      "needs_background": "light"
     },
     "output_type": "display_data"
    }
   ],
   "source": [
    "plt.plot(n2,mavg,'.')\n",
    "#192*510 #ultimate crop\n",
    "#346*662 #without black"
   ]
  },
  {
   "cell_type": "code",
   "execution_count": 23,
   "metadata": {},
   "outputs": [
    {
     "data": {
      "text/plain": [
       "(124.0, 634.0)"
      ]
     },
     "execution_count": 23,
     "metadata": {},
     "output_type": "execute_result"
    }
   ],
   "source": [
    "W=192\n",
    "A=662-510\n",
    "A/2\n",
    "BOT=A/2+48\n",
    "TOP=710-A/2\n",
    "BOT,TOP"
   ]
  },
  {
   "cell_type": "code",
   "execution_count": null,
   "metadata": {},
   "outputs": [],
   "source": []
  },
  {
   "cell_type": "code",
   "execution_count": 10,
   "metadata": {},
   "outputs": [],
   "source": [
    "img=train_data[\"image\"]\n",
    "img=np.array(img)\n",
    "m=np.zeros(197)\n",
    "for i in range(197):\n",
    "    im2=cv2.imread(str(img[i])+'.bmp',cv2.IMREAD_GRAYSCALE)\n",
    "    for k in range(124,634):\n",
    "        for j in range(192):\n",
    "            if im2[k][j]/255>0.9:\n",
    "                m[i]=m[i]+1"
   ]
  },
  {
   "cell_type": "code",
   "execution_count": 18,
   "metadata": {},
   "outputs": [
    {
     "data": {
      "text/plain": [
       "[<matplotlib.lines.Line2D at 0x187d4389080>]"
      ]
     },
     "execution_count": 18,
     "metadata": {},
     "output_type": "execute_result"
    },
    {
     "data": {
      "image/png": "[encoded data removed]",
      "text/plain": [
       "<Figure size 432x288 with 1 Axes>"
      ]
     },
     "metadata": {
      "needs_background": "light"
     },
     "output_type": "display_data"
    }
   ],
   "source": [
    "plt.plot(m,mavg,'.')"
   ]
  },
  {
   "cell_type": "code",
   "execution_count": null,
   "metadata": {},
   "outputs": [],
   "source": [
    "fa"
   ]
  }
 ],
 "metadata": {
  "kernelspec": {
   "display_name": "Python 3",
   "language": "python",
   "name": "python3"
  },
  "language_info": {
   "codemirror_mode": {
    "name": "ipython",
    "version": 3
   },
   "file_extension": ".py",
   "mimetype": "text/x-python",
   "name": "python",
   "nbconvert_exporter": "python",
   "pygments_lexer": "ipython3",
   "version": "3.7.3"
  }
 },
 "nbformat": 4,
 "nbformat_minor": 2
}
